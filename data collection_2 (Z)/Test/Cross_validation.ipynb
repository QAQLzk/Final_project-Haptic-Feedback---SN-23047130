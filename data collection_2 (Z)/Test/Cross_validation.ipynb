{
 "cells": [
  {
   "cell_type": "code",
   "execution_count": null,
   "metadata": {},
   "outputs": [],
   "source": [
    "from sklearn.linear_model import LinearRegression\n",
    "from sklearn.metrics import mean_squared_error, r2_score, mean_absolute_error\n",
    "import joblib\n",
    "import pandas as pd\n",
    "import matplotlib.pyplot as plt"
   ]
  },
  {
   "cell_type": "code",
   "execution_count": null,
   "metadata": {},
   "outputs": [],
   "source": [
    "\n",
    "dataframe1_path = '1_merged.csv'\n",
    "dataframe1 = pd.read_csv(dataframe1_path)\n",
    "\n",
    "dataframe2_path = '2_merged.csv'\n",
    "dataframe2 = pd.read_csv(dataframe2_path)\n",
    "\n",
    "dataframe3_path = '3_merged.csv'\n",
    "dataframe3 = pd.read_csv(dataframe3_path)\n",
    "\n"
   ]
  },
  {
   "cell_type": "code",
   "execution_count": null,
   "metadata": {},
   "outputs": [],
   "source": [
    "from sklearn.neighbors import LocalOutlierFactor\n",
    "\n",
    "\n",
    "combined_data1 = dataframe1[['Timestamp', 'SBT Z-axis', 'Magnetic Z-axis']]\n",
    "combined_data2 = dataframe2[['Timestamp', 'SBT Z-axis', 'Magnetic Z-axis']]\n",
    "combined_data3 = dataframe3[['Timestamp', 'SBT Z-axis', 'Magnetic Z-axis']]\n",
    "\n",
    "\n",
    "combined_data = pd.concat([combined_data1, combined_data2,combined_data3])\n",
    "\n",
    "data = combined_data[['SBT Z-axis', 'Magnetic Z-axis']]\n",
    "\n",
    "\n",
    "lof = LocalOutlierFactor(n_neighbors=50, contamination=0.35)\n",
    "\n",
    "\n",
    "combined_data['anomaly'] = lof.fit_predict(data)\n",
    "\n",
    "cleaned_data = combined_data[combined_data['anomaly'] == 1]"
   ]
  },
  {
   "cell_type": "code",
   "execution_count": null,
   "metadata": {},
   "outputs": [],
   "source": [
    "from sklearn.model_selection import train_test_split\n",
    "\n",
    "\n",
    "X = cleaned_data[['Magnetic Z-axis']].values \n",
    "y = cleaned_data['SBT Z-axis'].values  \n",
    "\n",
    "\n",
    "X_train, X_test, y_train, y_test = train_test_split(X, y, test_size=0.2, random_state=77)"
   ]
  },
  {
   "cell_type": "code",
   "execution_count": null,
   "metadata": {},
   "outputs": [],
   "source": [
    "import numpy as np\n",
    "from keras.models import Sequential\n",
    "from keras.layers import Dense\n",
    "\n",
    "\n",
    "def build_mlp_model(input_dim):\n",
    "    model = Sequential()\n",
    "    model.add(Dense(32, activation='relu', input_dim=input_dim))\n",
    "    for _ in range(4): \n",
    "        model.add(Dense(32, activation='relu'))\n",
    "    model.add(Dense(1))  \n",
    "    return model\n",
    "\n",
    "def build_linear_model():\n",
    "    return LinearRegression()\n"
   ]
  },
  {
   "cell_type": "code",
   "execution_count": null,
   "metadata": {},
   "outputs": [],
   "source": [
    "\n",
    "\n",
    "from sklearn.model_selection import KFold, cross_val_score\n",
    "def evaluate_model(X, y, build_model_func, model_type='mlp', n_splits=5):\n",
    "    kf = KFold(n_splits=n_splits, shuffle=True, random_state=77)\n",
    "    mae_scores = []\n",
    "    mse_scores = []\n",
    "    r2_scores = []\n",
    "\n",
    "    for train_index, test_index in kf.split(X):\n",
    "        X_train, X_test = X[train_index], X[test_index]\n",
    "        y_train, y_test = y[train_index], y[test_index]\n",
    "\n",
    "        if model_type == 'mlp':\n",
    "            model = build_model_func(X_train.shape[1])\n",
    "            optimizer = Adam(learning_rate=1e-3)\n",
    "            model.compile(optimizer=optimizer, loss='mean_absolute_error')\n",
    "            reduce_lr = ReduceLROnPlateau(monitor='loss', factor=0.1, patience=3, verbose=1)\n",
    "            checkpoint = ModelCheckpoint('Z_best_model.h5', monitor='loss', save_best_only=True, verbose=1)\n",
    "            early_stopping = EarlyStopping(monitor='loss', min_delta=0.001, patience=10, verbose=1, restore_best_weights=True)\n",
    "            model.fit(X_train, y_train, epochs=500, callbacks=[reduce_lr, checkpoint, early_stopping], verbose=0)\n",
    "            predictions = model.predict(X_test).flatten()\n",
    "        else:\n",
    "            model = build_model_func()\n",
    "            model.fit(X_train, y_train)\n",
    "            predictions = model.predict(X_test)\n",
    "\n",
    "        mae = mean_absolute_error(y_test, predictions)\n",
    "        mse = mean_squared_error(y_test, predictions)\n",
    "        r2 = r2_score(y_test, predictions)\n",
    "\n",
    "        mae_scores.append(mae)\n",
    "        mse_scores.append(mse)\n",
    "        r2_scores.append(r2)\n",
    "\n",
    "    print(f'Mean Absolute Error: {np.mean(mae_scores)}')\n",
    "    print(f'Mean Squared Error: {np.mean(mse_scores)}')\n",
    "    print(f'R^2 Score: {np.mean(r2_scores)}')"
   ]
  },
  {
   "cell_type": "code",
   "execution_count": null,
   "metadata": {},
   "outputs": [],
   "source": [
    "# Evaluate MLP Model\n",
    "evaluate_model(X, y, build_mlp_model, model_type='mlp')\n"
   ]
  },
  {
   "cell_type": "code",
   "execution_count": null,
   "metadata": {},
   "outputs": [],
   "source": [
    "# Evaluate Linear model\n",
    "evaluate_model(X, y, build_linear_model, model_type='linear')"
   ]
  }
 ],
 "metadata": {
  "language_info": {
   "name": "python"
  }
 },
 "nbformat": 4,
 "nbformat_minor": 2
}
